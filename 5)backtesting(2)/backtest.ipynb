{
 "cells": [
  {
   "cell_type": "code",
   "execution_count": 1,
   "id": "114f93a9-d719-4930-a78e-6e7e95e3426e",
   "metadata": {},
   "outputs": [],
   "source": [
    "import pandas as pd\n",
    "import numpy as np\n",
    "import warnings\n",
    "warnings. simplefilter(action='ignore', category=Warning)"
   ]
  },
  {
   "cell_type": "code",
   "execution_count": 2,
   "id": "cc209505-6a72-4b02-b352-0411e2ed6806",
   "metadata": {},
   "outputs": [],
   "source": [
    "def GoldenCrossverSignal(name):\n",
    "    path = f'../2)data/{name}.csv'\n",
    "    data = pd.read_csv(path, parse_dates=['Date'], index_col='Date')\n",
    "    data['Prev_Close'] = data.Close.shift(1) #we use prev_close to remove forwad bias\n",
    "    data['50_DMA'] = data.Prev_Close.rolling(window=50, min_periods=1).mean()\n",
    "    data['200_DMA'] = data.Prev_Close.rolling(window=200, min_periods=1).mean()\n",
    "    data['Signal'] = 0\n",
    "    data['Signal'] = np.where(data['50_DMA'] > data['200_DMA'], 1, 0)\n",
    "    data['Position'] = data.Signal.diff()\n",
    "    df_pos = data[(data['Position'] == 1) | (data['Position'] == -1)].copy()\n",
    "    df_pos['Position'] = df_pos['Position'].apply(lambda x: 'Buy' if x == 1 else 'Sell')\n",
    "    return df_pos"
   ]
  },
  {
   "cell_type": "code",
   "execution_count": 3,
   "id": "2e01b2d5-5a68-4508-b64f-c4556f5f1b64",
   "metadata": {},
   "outputs": [],
   "source": [
    "data = GoldenCrossverSignal('RELIANCE')"
   ]
  },
  {
   "cell_type": "code",
   "execution_count": 4,
   "id": "496b824f-65ed-4ca2-8531-3962ab08346a",
   "metadata": {},
   "outputs": [],
   "source": [
    "req_data = data[(data.index >= data[data['Position'] == 'Buy'].index[0]) & (data.index <= data[data['Position'] == 'Sell'].index[-1])]"
   ]
  },
  {
   "cell_type": "code",
   "execution_count": 5,
   "id": "f977def2-ce84-4621-b40d-6400a34c6db8",
   "metadata": {},
   "outputs": [],
   "source": [
    "# Name, Entry TIme, Entry PRice, QTY, Exit Time, Exit Price\n",
    "class Backtest:\n",
    "    def __init__(self):\n",
    "        self.columns = ['Equity Name', 'Trade', 'Entry Time', 'Entry Price', 'Exit Time', 'Exit Price', 'Quantity', 'Position Size', 'PNL', '% PNL']\n",
    "        self.backtesting = pd.DataFrame(columns=self.columns)\n",
    "\n",
    "    def buy(self, equity_name, entry_time, entry_price, qty):\n",
    "        self.trade_log = dict(zip(self.columns, [None] * len(self.columns)))\n",
    "        self.trade_log['Trade'] = 'Long Open'\n",
    "        self.trade_log['Quantity'] = qty\n",
    "        self.trade_log['Position Size'] = round(self.trade_log['Quantity'] * entry_price, 3)\n",
    "        self.trade_log['Equity Name'] = equity_name\n",
    "        self.trade_log['Entry Time'] = entry_time\n",
    "        self.trade_log['Entry Price'] = round(entry_price, 2)\n",
    "\n",
    "    def sell(self, exit_time, exit_price, exit_type, charge):\n",
    "        self.trade_log['Trade'] = 'Long Closed'\n",
    "        self.trade_log['Exit Time'] = exit_time\n",
    "        self.trade_log['Exit Price'] = round(exit_price, 2)\n",
    "        self.trade_log['Exit Type'] = exit_type\n",
    "        self.trade_log['PNL'] = round((self.trade_log['Exit Price'] - self.trade_log['Entry Price']) * self.trade_log['Quantity'] - charge, 3)\n",
    "        self.trade_log['% PNL'] = round((self.trade_log['PNL'] / self.trade_log['Position Size']) * 100, 3)\n",
    "        self.trade_log['Holding Period'] = exit_time - self.trade_log['Entry Time']\n",
    "        new = pd.DataFrame([self.trade_log])\n",
    "        self.backtesting = pd.concat([new,self.backtesting], ignore_index=True)"
   ]
  },
  {
   "cell_type": "code",
   "execution_count": 6,
   "id": "7508069b-e562-4dcd-b700-aa56128e5439",
   "metadata": {},
   "outputs": [],
   "source": [
    "bt = Backtest()\n",
    "capital = 10000\n",
    "for index, data in req_data.iterrows():\n",
    "    if(data.Position == 'Buy'):\n",
    "        qty = capital // data.Open\n",
    "        bt.buy('RELIANCE', index, data.Open, qty)\n",
    "    else:\n",
    "        bt.sell(index, data.Open, 'Exit Trigger', 0)"
   ]
  },
  {
   "cell_type": "code",
   "execution_count": 7,
   "id": "7c3dd14e-e217-434f-83f1-325e022c378e",
   "metadata": {},
   "outputs": [
    {
     "data": {
      "text/plain": [
       "92655.0"
      ]
     },
     "execution_count": 7,
     "metadata": {},
     "output_type": "execute_result"
    }
   ],
   "source": [
    "bt.backtesting.to_csv('RELIANCE_TEST.csv')\n",
    "bt.backtesting.PNL.sum()"
   ]
  }
 ],
 "metadata": {
  "kernelspec": {
   "display_name": "Python 3 (ipykernel)",
   "language": "python",
   "name": "python3"
  },
  "language_info": {
   "codemirror_mode": {
    "name": "ipython",
    "version": 3
   },
   "file_extension": ".py",
   "mimetype": "text/x-python",
   "name": "python",
   "nbconvert_exporter": "python",
   "pygments_lexer": "ipython3",
   "version": "3.10.9"
  }
 },
 "nbformat": 4,
 "nbformat_minor": 5
}
