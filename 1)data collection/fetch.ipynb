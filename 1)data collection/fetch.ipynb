{
 "cells": [
  {
   "cell_type": "code",
   "execution_count": 1,
   "id": "f4ebdc3c-b699-4f94-8f5a-8a59534499e5",
   "metadata": {},
   "outputs": [],
   "source": [
    "import pandas as pd\n",
    "import yfinance as yf"
   ]
  },
  {
   "cell_type": "code",
   "execution_count": null,
   "id": "6abb8b14-91a3-40d1-be2b-b002c48fcb60",
   "metadata": {},
   "outputs": [],
   "source": [
    "equity_details = pd.read_csv('EQUITY_L.csv')\n",
    "for name in equity_details.SYMBOL:\n",
    "    try:\n",
    "        data = yf.download(f'{name}.NS')\n",
    "        data.to_csv(f'../2)data/{name}.csv')\n",
    "    except Exception as e:\n",
    "        print(f'{name} ---> {e}')"
   ]
  }
 ],
 "metadata": {
  "kernelspec": {
   "display_name": "Python 3 (ipykernel)",
   "language": "python",
   "name": "python3"
  },
  "language_info": {
   "codemirror_mode": {
    "name": "ipython",
    "version": 3
   },
   "file_extension": ".py",
   "mimetype": "text/x-python",
   "name": "python",
   "nbconvert_exporter": "python",
   "pygments_lexer": "ipython3",
   "version": "3.10.9"
  }
 },
 "nbformat": 4,
 "nbformat_minor": 5
}
